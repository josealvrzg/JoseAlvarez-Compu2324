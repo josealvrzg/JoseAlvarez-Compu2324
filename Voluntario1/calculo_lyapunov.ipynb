{
 "cells": [
  {
   "cell_type": "code",
   "execution_count": 2,
   "metadata": {},
   "outputs": [],
   "source": [
    "import numpy as np\n",
    "import matplotlib.pyplot as plt\n"
   ]
  },
  {
   "cell_type": "code",
   "execution_count": 3,
   "metadata": {},
   "outputs": [],
   "source": [
    "\n",
    "#===============================================================\n",
    "# Leer los datos del archivo .dat\n",
    "\n",
    "# Datos con phi=psi=1.0 grados, psidot=0.0\n",
    "data1 = np.loadtxt('espacio_fasico1.dat', delimiter=',')\n",
    "data3 = np.loadtxt('espacio_fasico3.dat', delimiter=',')\n",
    "data5 = np.loadtxt('espacio_fasico5.dat', delimiter=',')\n",
    "data10 = np.loadtxt('espacio_fasico10.dat', delimiter=',')\n",
    "data15 = np.loadtxt('espacio_fasico15.dat', delimiter=',')\n",
    "\n",
    "# Datos con phi=psi=1.5 grados, psidot=0.1\n",
    "data1p = np.loadtxt('espacio_fasico1_prime.dat', delimiter=',')\n",
    "data3p = np.loadtxt('espacio_fasico3_prime.dat', delimiter=',')\n",
    "data5p = np.loadtxt('espacio_fasico5_prime.dat', delimiter=',')\n",
    "data10p = np.loadtxt('espacio_fasico10_prime.dat', delimiter=',')\n",
    "data15p = np.loadtxt('espacio_fasico15_prime.dat', delimiter=',')\n",
    "\n",
    "\n",
    "# Datos originales\n",
    "original_data = np.array([data1, data3, data5, data10, data15])\n",
    "\n",
    "# Datos perturbados\n",
    "perturbed_data = np.array([data1p, data3p, data5p, data10p, data15p])\n",
    "\n",
    "# Acceder a cada conjunto de datos específico\n",
    "phi_original = original_data[:, :, 0]\n",
    "psi_original = original_data[:, :, 1]\n",
    "phidot_original = original_data[:, :, 2]\n",
    "psidot_original = original_data[:, :, 3]\n",
    "\n",
    "phi_perturbed = perturbed_data[:, :, 0]\n",
    "psi_perturbed = perturbed_data[:, :, 1]\n",
    "phidot_perturbed = perturbed_data[:, :, 2]\n",
    "psidot_perturbed = perturbed_data[:, :, 3]\n",
    "\n",
    "\n"
   ]
  },
  {
   "cell_type": "code",
   "execution_count": 15,
   "metadata": {},
   "outputs": [
    {
     "name": "stdout",
     "output_type": "stream",
     "text": [
      "[6.21726521e-07 7.73450242e-07 1.04004815e-06 1.02686639e-06\n",
      " 8.34176662e-07]\n",
      "El valor para phi es : [          -inf 8.81593560e-07 1.24651498e-06 1.23931434e-06\n",
      " 9.91430951e-07]\n",
      "El valor para psi es :  [8.70289220e-07 1.01946535e-06 1.26732906e-06 1.25047106e-06\n",
      " 1.07541629e-06]\n",
      "El valor para phidot es :  [-inf -inf -inf -inf -inf]\n",
      "El valor para psidot es :  [-inf -inf -inf -inf -inf]\n"
     ]
    },
    {
     "name": "stderr",
     "output_type": "stream",
     "text": [
      "C:\\Users\\Jose\\AppData\\Local\\Temp\\ipykernel_19460\\3929706056.py:22: RuntimeWarning: divide by zero encountered in log\n",
      "  lphi[i] = 1/m * (np.log(deltaphi[i,m]/deltaphi[i,0]))\n",
      "C:\\Users\\Jose\\AppData\\Local\\Temp\\ipykernel_19460\\3929706056.py:32: RuntimeWarning: divide by zero encountered in log\n",
      "  lphidot[i] = 1/m * (np.log(deltaphidot[i,m]/deltaphidot[i,0]))\n",
      "C:\\Users\\Jose\\AppData\\Local\\Temp\\ipykernel_19460\\3929706056.py:37: RuntimeWarning: divide by zero encountered in log\n",
      "  lpsidot[i] = 1/m * (np.log(deltapsidot[i,m]))\n"
     ]
    }
   ],
   "source": [
    "## CALCULOS\n",
    "m = 10**7\n",
    "\n",
    "# Calculo diferencias\n",
    "deltaphi = np.abs(phi_original-phi_perturbed)\n",
    "deltapsi = np.abs(psi_original-psi_perturbed)\n",
    "deltaphidot = np.abs(phidot_original-phidot_perturbed)\n",
    "deltapsidot = np.abs(psidot_original-psidot_perturbed)\n",
    "\n",
    "delta = np.sqrt(deltaphi**2 + deltapsi**2 + deltaphidot**2 + deltapsidot**2)\n",
    "\n",
    "\n",
    "\n",
    "# Calculo coeficientes\n",
    "l = np.zeros(5)\n",
    "for i in range(len(l)):\n",
    "    l[i] = 1/m * sum(np.log(delta[i,:]/delta[i,0]))\n",
    "print(l)\n",
    "\n",
    "lphi = np.zeros(5)\n",
    "for i in range(len(lphi)):\n",
    "    lphi[i] = 1/m * sum(np.log(deltaphi[i,:]/deltaphi[i,0]))\n",
    "print(\"El valor para phi es :\",lphi)\n",
    "\n",
    "lpsi = np.zeros(5)\n",
    "for i in range(len(l)):\n",
    "    lpsi[i] = 1/m * sum(np.log(deltapsi[i,:]/deltapsi[i,0]))\n",
    "print(\"El valor para psi es : \",lpsi)\n",
    "\n",
    "lphidot = np.zeros(5)\n",
    "for i in range(len(lphidot)):\n",
    "    lphidot[i] = 1/m * sum(np.log(deltaphidot[i,:]/deltaphidot[i,0]))\n",
    "print(\"El valor para phidot es : \" ,lphidot)\n",
    "\n",
    "lpsidot = np.zeros(5)\n",
    "for i in range(len(lpsidot)):\n",
    "    lpsidot[i] = 1/m * sum(np.log(deltapsidot[i,:]/deltapsidot[i,0]))\n",
    "print(\"El valor para psidot es : \" ,lpsidot)"
   ]
  }
 ],
 "metadata": {
  "kernelspec": {
   "display_name": "Python 3",
   "language": "python",
   "name": "python3"
  },
  "language_info": {
   "codemirror_mode": {
    "name": "ipython",
    "version": 3
   },
   "file_extension": ".py",
   "mimetype": "text/x-python",
   "name": "python",
   "nbconvert_exporter": "python",
   "pygments_lexer": "ipython3",
   "version": "3.11.7"
  }
 },
 "nbformat": 4,
 "nbformat_minor": 2
}
